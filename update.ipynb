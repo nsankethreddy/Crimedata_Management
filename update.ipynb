{
 "cells": [
  {
   "cell_type": "code",
   "execution_count": null,
   "metadata": {},
   "outputs": [],
   "source": [
    "import psycopg2\n",
    "\n",
    "def convertTuple(tup): \n",
    "    str =  ''.join(tup) \n",
    "    return str\n",
    "\n",
    "try:\n",
    "    conn = psycopg2.connect(user= \"postgres\",password=\"admin123\",host=\"localhost\",port=\"5432\",database=\"criminal\")\n",
    "    \n",
    "except psycopg2.Error as e:\n",
    "    print (\"Unable to connect!\")\n",
    "    print (e.pgerror)\n",
    "    print (e.diag.message_detail)\n",
    "    sys.exit(1)\n",
    "else:\n",
    "    print (\"Connected!\")\n",
    "    cur = conn.cursor()\n",
    "    \n",
    "    print(\"Enter the Case ID whose related information has to be edited\")\n",
    "    case_id = input(\"CaseID\")\n",
    "    \n",
    "    print(\"What information Do you want to edit?\")\n",
    "    menuname = input(\"\\n\\\n",
    "    a) Accused Info\\n\\\n",
    "    v) Victim Info\\n\\\n",
    "    p) Litigator Information\\n\\\n",
    "    \")\n",
    "    \n",
    "\n",
    "    \n",
    "    conn.commit()\n",
    "    conn.close()"
   ]
  },
  {
   "cell_type": "code",
   "execution_count": null,
   "metadata": {},
   "outputs": [],
   "source": []
  }
 ],
 "metadata": {
  "kernelspec": {
   "display_name": "Python 3",
   "language": "python",
   "name": "python3"
  },
  "language_info": {
   "codemirror_mode": {
    "name": "ipython",
    "version": 3
   },
   "file_extension": ".py",
   "mimetype": "text/x-python",
   "name": "python",
   "nbconvert_exporter": "python",
   "pygments_lexer": "ipython3",
   "version": "3.8.2"
  }
 },
 "nbformat": 4,
 "nbformat_minor": 4
}
